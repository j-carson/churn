{
 "cells": [
  {
   "cell_type": "markdown",
   "metadata": {},
   "source": [
    "# MVP in Altair\n",
    "\n",
    "So, in the explore.ipynb notebook, I identified some initial observations for a 'minimum viable project,' but the \n",
    "graphs are very basic, ugly pandas graphs. These are great for an analyst to get a quick look at data, but\n",
    "for business slides you'd want something more consistent, nice axis labels, and so on. \n",
    "\n",
    "I made these with Altair."
   ]
  },
  {
   "cell_type": "code",
   "execution_count": 1,
   "metadata": {},
   "outputs": [],
   "source": [
    "import pandas as pd\n",
    "import numpy as np\n",
    "import altair as alt\n",
    "\n",
    "from pathlib import Path"
   ]
  },
  {
   "cell_type": "code",
   "execution_count": 2,
   "metadata": {},
   "outputs": [
    {
     "name": "stdout",
     "output_type": "stream",
     "text": [
      "altair 3.1.0\n",
      "pandas 0.24.2\n",
      "numpy  1.16.4\n",
      "\n"
     ]
    }
   ],
   "source": [
    "%load_ext watermark\n",
    "%watermark -iv"
   ]
  },
  {
   "cell_type": "code",
   "execution_count": 3,
   "metadata": {},
   "outputs": [
    {
     "data": {
      "text/plain": [
       "(7043, 21)"
      ]
     },
     "execution_count": 3,
     "metadata": {},
     "output_type": "execute_result"
    }
   ],
   "source": [
    "# Data load\n",
    "data = Path('../data/churn_cleaned.pkl')\n",
    "assert(data.exists())\n",
    "df = pd.read_pickle(data)\n",
    "df.shape"
   ]
  },
  {
   "cell_type": "code",
   "execution_count": 4,
   "metadata": {},
   "outputs": [
    {
     "data": {
      "text/plain": [
       "Index(['customerID', 'gender', 'SeniorCitizen', 'Partner', 'Dependents',\n",
       "       'tenure', 'PhoneService', 'MultipleLines', 'InternetService',\n",
       "       'OnlineSecurity', 'OnlineBackup', 'DeviceProtection', 'TechSupport',\n",
       "       'StreamingTV', 'StreamingMovies', 'Contract', 'PaperlessBilling',\n",
       "       'PaymentMethod', 'MonthlyCharges', 'TotalCharges', 'Churn'],\n",
       "      dtype='object')"
      ]
     },
     "execution_count": 4,
     "metadata": {},
     "output_type": "execute_result"
    }
   ],
   "source": [
    "df.columns"
   ]
  },
  {
   "cell_type": "markdown",
   "metadata": {},
   "source": [
    "# Overview - who churned?"
   ]
  },
  {
   "cell_type": "code",
   "execution_count": 5,
   "metadata": {},
   "outputs": [],
   "source": [
    "def total_percent(df, group, column):\n",
    "    totals = df.groupby(group)[column].sum()\n",
    "    totals.name = 'total'\n",
    "    df = df.join(totals, how='left', on=group)\n",
    "    df['percent'] = round(df[column].astype(float) * 100 / df.total.astype(float))\n",
    "    df['percent'] = df['percent'].astype(int).astype(str) + '%'\n",
    "    return df"
   ]
  },
  {
   "cell_type": "code",
   "execution_count": 6,
   "metadata": {},
   "outputs": [
    {
     "data": {
      "text/html": [
       "<div>\n",
       "<style scoped>\n",
       "    .dataframe tbody tr th:only-of-type {\n",
       "        vertical-align: middle;\n",
       "    }\n",
       "\n",
       "    .dataframe tbody tr th {\n",
       "        vertical-align: top;\n",
       "    }\n",
       "\n",
       "    .dataframe thead th {\n",
       "        text-align: right;\n",
       "    }\n",
       "</style>\n",
       "<table border=\"1\" class=\"dataframe\">\n",
       "  <thead>\n",
       "    <tr style=\"text-align: right;\">\n",
       "      <th></th>\n",
       "      <th>cust_type</th>\n",
       "      <th>Churn</th>\n",
       "      <th>customerID</th>\n",
       "      <th>total</th>\n",
       "      <th>percent</th>\n",
       "    </tr>\n",
       "  </thead>\n",
       "  <tbody>\n",
       "    <tr>\n",
       "      <th>0</th>\n",
       "      <td>Both</td>\n",
       "      <td>No</td>\n",
       "      <td>3249</td>\n",
       "      <td>4835</td>\n",
       "      <td>67%</td>\n",
       "    </tr>\n",
       "    <tr>\n",
       "      <th>1</th>\n",
       "      <td>Both</td>\n",
       "      <td>Yes</td>\n",
       "      <td>1586</td>\n",
       "      <td>4835</td>\n",
       "      <td>33%</td>\n",
       "    </tr>\n",
       "    <tr>\n",
       "      <th>2</th>\n",
       "      <td>Internet</td>\n",
       "      <td>No</td>\n",
       "      <td>512</td>\n",
       "      <td>682</td>\n",
       "      <td>75%</td>\n",
       "    </tr>\n",
       "    <tr>\n",
       "      <th>3</th>\n",
       "      <td>Internet</td>\n",
       "      <td>Yes</td>\n",
       "      <td>170</td>\n",
       "      <td>682</td>\n",
       "      <td>25%</td>\n",
       "    </tr>\n",
       "    <tr>\n",
       "      <th>4</th>\n",
       "      <td>Phone</td>\n",
       "      <td>No</td>\n",
       "      <td>1413</td>\n",
       "      <td>1526</td>\n",
       "      <td>93%</td>\n",
       "    </tr>\n",
       "    <tr>\n",
       "      <th>5</th>\n",
       "      <td>Phone</td>\n",
       "      <td>Yes</td>\n",
       "      <td>113</td>\n",
       "      <td>1526</td>\n",
       "      <td>7%</td>\n",
       "    </tr>\n",
       "  </tbody>\n",
       "</table>\n",
       "</div>"
      ],
      "text/plain": [
       "  cust_type Churn  customerID  total percent\n",
       "0      Both    No        3249   4835     67%\n",
       "1      Both   Yes        1586   4835     33%\n",
       "2  Internet    No         512    682     75%\n",
       "3  Internet   Yes         170    682     25%\n",
       "4     Phone    No        1413   1526     93%\n",
       "5     Phone   Yes         113   1526      7%"
      ]
     },
     "execution_count": 6,
     "metadata": {},
     "output_type": "execute_result"
    }
   ],
   "source": [
    "df['cust_type'] = ''\n",
    "df.loc[(df.PhoneService == 'Yes') & (df.InternetService == 'No'), 'cust_type'] = 'Phone'\n",
    "df.loc[(df.PhoneService == 'No') & (df.InternetService != 'No'), 'cust_type'] = 'Internet'\n",
    "df.loc[df.cust_type == '', 'cust_type'] = 'Both'\n",
    "chart_data = df.groupby(['cust_type','Churn'])['customerID'].count().reset_index()\n",
    "chart_data = total_percent(chart_data, 'cust_type', 'customerID')\n",
    "\n",
    "chart_data"
   ]
  },
  {
   "cell_type": "code",
   "execution_count": null,
   "metadata": {},
   "outputs": [],
   "source": []
  },
  {
   "cell_type": "code",
   "execution_count": 7,
   "metadata": {},
   "outputs": [
    {
     "data": {
      "application/vnd.vegalite.v3+json": {
       "$schema": "https://vega.github.io/schema/vega-lite/v3.3.0.json",
       "config": {
        "mark": {
         "tooltip": null
        },
        "view": {
         "height": 300,
         "width": 400
        }
       },
       "datasets": {
        "data-05c8c2f2406dfe195e667c31a059f965": [
         {
          "Churn": "Yes",
          "cust_type": "Internet",
          "customerID": 170,
          "percent": "25%",
          "total": 682
         },
         {
          "Churn": "Yes",
          "cust_type": "Phone",
          "customerID": 113,
          "percent": "7%",
          "total": 1526
         }
        ],
        "data-1e00ca2f47d2f5470817240a0cce33b5": [
         {
          "Churn": "Yes",
          "cust_type": "Both",
          "customerID": 1586,
          "percent": "33%",
          "total": 4835
         }
        ],
        "data-bead014a9b962e71d2711e72ffbed435": [
         {
          "Churn": "No",
          "cust_type": "Both",
          "customerID": 3249,
          "percent": "67%",
          "total": 4835
         },
         {
          "Churn": "Yes",
          "cust_type": "Both",
          "customerID": 1586,
          "percent": "33%",
          "total": 4835
         },
         {
          "Churn": "No",
          "cust_type": "Internet",
          "customerID": 512,
          "percent": "75%",
          "total": 682
         },
         {
          "Churn": "Yes",
          "cust_type": "Internet",
          "customerID": 170,
          "percent": "25%",
          "total": 682
         },
         {
          "Churn": "No",
          "cust_type": "Phone",
          "customerID": 1413,
          "percent": "93%",
          "total": 1526
         },
         {
          "Churn": "Yes",
          "cust_type": "Phone",
          "customerID": 113,
          "percent": "7%",
          "total": 1526
         }
        ]
       },
       "layer": [
        {
         "data": {
          "name": "data-bead014a9b962e71d2711e72ffbed435"
         },
         "encoding": {
          "color": {
           "field": "Churn",
           "type": "nominal"
          },
          "order": {
           "field": "Churn",
           "sort": "ascending",
           "type": "nominal"
          },
          "x": {
           "aggregate": "sum",
           "field": "customerID",
           "title": "Number of Customers",
           "type": "quantitative"
          },
          "y": {
           "field": "cust_type",
           "title": "Product",
           "type": "nominal"
          }
         },
         "height": 100,
         "mark": {
          "size": 20,
          "type": "bar"
         },
         "title": "Phone-only Customers Have the Least Churn"
        },
        {
         "data": {
          "name": "data-05c8c2f2406dfe195e667c31a059f965"
         },
         "encoding": {
          "text": {
           "field": "percent",
           "type": "nominal"
          },
          "x": {
           "field": "total",
           "type": "quantitative"
          },
          "y": {
           "field": "cust_type",
           "type": "nominal"
          }
         },
         "mark": {
          "dx": 15,
          "type": "text"
         }
        },
        {
         "data": {
          "name": "data-1e00ca2f47d2f5470817240a0cce33b5"
         },
         "encoding": {
          "text": {
           "field": "percent",
           "type": "nominal"
          },
          "x": {
           "field": "x",
           "type": "quantitative"
          },
          "y": {
           "field": "cust_type",
           "type": "nominal"
          }
         },
         "mark": {
          "color": "white",
          "type": "text"
         },
         "transform": [
          {
           "as": "x",
           "calculate": "datum.total - datum.customerID/2"
          }
         ]
        }
       ]
      },
      "image/png": "[encoded data removed]",
      "text/plain": [
       "<VegaLite 3 object>\n",
       "\n",
       "If you see this message, it means the renderer has not been properly enabled\n",
       "for the frontend that you are using. For more information, see\n",
       "https://altair-viz.github.io/user_guide/troubleshooting.html\n"
      ]
     },
     "execution_count": 7,
     "metadata": {},
     "output_type": "execute_result"
    }
   ],
   "source": [
    "bars = alt.Chart(chart_data,\n",
    "                title='Phone-only Customers Have the Least Churn',\n",
    "                height=100\n",
    "         ).mark_bar(\n",
    "                size=20\n",
    "         ).encode(\n",
    "                alt.X('sum(customerID)', title='Number of Customers'),\n",
    "                alt.Y('cust_type', title='Product'),\n",
    "                color='Churn',\n",
    "                order=alt.Order(\n",
    "                    'Churn',\n",
    "                    sort='ascending'\n",
    "                )\n",
    "         )\n",
    "\n",
    "text_side = alt.Chart(\n",
    "    chart_data.query('Churn == \"Yes\" and cust_type != \"Both\"')).mark_text(dx=15).encode(\n",
    "    x=alt.X('total'),\n",
    "    y=alt.Y('cust_type'),\n",
    "    text=alt.Text('percent')\n",
    ")\n",
    "\n",
    "text_center = alt.Chart(\n",
    "    chart_data.query('Churn == \"Yes\" and cust_type == \"Both\"')).mark_text(color='white').encode(\n",
    "    x='x:Q',\n",
    "    y=alt.Y('cust_type'),\n",
    "    text=alt.Text('percent')\n",
    ").transform_calculate(\n",
    "    x='datum.total - datum.customerID/2'\n",
    ")\n",
    "\n",
    "(bars + text_side + text_center)"
   ]
  },
  {
   "cell_type": "markdown",
   "metadata": {},
   "source": [
    "# Internet Churn by Product"
   ]
  },
  {
   "cell_type": "code",
   "execution_count": 8,
   "metadata": {},
   "outputs": [
    {
     "data": {
      "text/html": [
       "<div>\n",
       "<style scoped>\n",
       "    .dataframe tbody tr th:only-of-type {\n",
       "        vertical-align: middle;\n",
       "    }\n",
       "\n",
       "    .dataframe tbody tr th {\n",
       "        vertical-align: top;\n",
       "    }\n",
       "\n",
       "    .dataframe thead th {\n",
       "        text-align: right;\n",
       "    }\n",
       "</style>\n",
       "<table border=\"1\" class=\"dataframe\">\n",
       "  <thead>\n",
       "    <tr style=\"text-align: right;\">\n",
       "      <th></th>\n",
       "      <th>InternetService</th>\n",
       "      <th>Churn</th>\n",
       "      <th>customerID</th>\n",
       "      <th>total</th>\n",
       "      <th>percent</th>\n",
       "      <th>pct_pos</th>\n",
       "    </tr>\n",
       "  </thead>\n",
       "  <tbody>\n",
       "    <tr>\n",
       "      <th>0</th>\n",
       "      <td>DSL</td>\n",
       "      <td>No</td>\n",
       "      <td>1962</td>\n",
       "      <td>2421</td>\n",
       "      <td>81%</td>\n",
       "      <td>1440.0</td>\n",
       "    </tr>\n",
       "    <tr>\n",
       "      <th>1</th>\n",
       "      <td>DSL</td>\n",
       "      <td>Yes</td>\n",
       "      <td>459</td>\n",
       "      <td>2421</td>\n",
       "      <td>19%</td>\n",
       "      <td>2191.5</td>\n",
       "    </tr>\n",
       "    <tr>\n",
       "      <th>2</th>\n",
       "      <td>Fiber optic</td>\n",
       "      <td>No</td>\n",
       "      <td>1799</td>\n",
       "      <td>3096</td>\n",
       "      <td>58%</td>\n",
       "      <td>2196.5</td>\n",
       "    </tr>\n",
       "    <tr>\n",
       "      <th>3</th>\n",
       "      <td>Fiber optic</td>\n",
       "      <td>Yes</td>\n",
       "      <td>1297</td>\n",
       "      <td>3096</td>\n",
       "      <td>42%</td>\n",
       "      <td>2447.5</td>\n",
       "    </tr>\n",
       "  </tbody>\n",
       "</table>\n",
       "</div>"
      ],
      "text/plain": [
       "  InternetService Churn  customerID  total percent  pct_pos\n",
       "0             DSL    No        1962   2421     81%   1440.0\n",
       "1             DSL   Yes         459   2421     19%   2191.5\n",
       "2     Fiber optic    No        1799   3096     58%   2196.5\n",
       "3     Fiber optic   Yes        1297   3096     42%   2447.5"
      ]
     },
     "execution_count": 8,
     "metadata": {},
     "output_type": "execute_result"
    }
   ],
   "source": [
    "chart_data = df.groupby([\"InternetService\",\"Churn\"])['customerID'].count().reset_index()\n",
    "chart_data = chart_data.query('InternetService != \"No\"')\n",
    "chart_data = total_percent(chart_data, 'InternetService', 'customerID')\n",
    "\n",
    "chart_data['pct_pos'] = chart_data.total - chart_data.customerID/2\n",
    "chart_data"
   ]
  },
  {
   "cell_type": "code",
   "execution_count": 9,
   "metadata": {},
   "outputs": [
    {
     "data": {
      "application/vnd.vegalite.v3+json": {
       "$schema": "https://vega.github.io/schema/vega-lite/v3.3.0.json",
       "config": {
        "mark": {
         "tooltip": null
        },
        "view": {
         "height": 300,
         "width": 400
        }
       },
       "datasets": {
        "data-78aa4fa73d942b9863f4536c68b6f4f8": [
         {
          "Churn": "Yes",
          "InternetService": "DSL",
          "customerID": 459,
          "pct_pos": 2191.5,
          "percent": "19%",
          "total": 2421
         },
         {
          "Churn": "Yes",
          "InternetService": "Fiber optic",
          "customerID": 1297,
          "pct_pos": 2447.5,
          "percent": "42%",
          "total": 3096
         }
        ],
        "data-b2029f9608c064e0ea1d22ece60ea9d1": [
         {
          "Churn": "No",
          "InternetService": "DSL",
          "customerID": 1962,
          "pct_pos": 1440,
          "percent": "81%",
          "total": 2421
         },
         {
          "Churn": "Yes",
          "InternetService": "DSL",
          "customerID": 459,
          "pct_pos": 2191.5,
          "percent": "19%",
          "total": 2421
         },
         {
          "Churn": "No",
          "InternetService": "Fiber optic",
          "customerID": 1799,
          "pct_pos": 2196.5,
          "percent": "58%",
          "total": 3096
         },
         {
          "Churn": "Yes",
          "InternetService": "Fiber optic",
          "customerID": 1297,
          "pct_pos": 2447.5,
          "percent": "42%",
          "total": 3096
         }
        ]
       },
       "layer": [
        {
         "data": {
          "name": "data-b2029f9608c064e0ea1d22ece60ea9d1"
         },
         "encoding": {
          "color": {
           "field": "Churn",
           "type": "nominal"
          },
          "order": {
           "field": "Churn",
           "sort": "ascending",
           "type": "nominal"
          },
          "x": {
           "aggregate": "sum",
           "field": "customerID",
           "title": "Number of Customers",
           "type": "quantitative"
          },
          "y": {
           "field": "InternetService",
           "title": "Internet Type",
           "type": "nominal"
          }
         },
         "height": 100,
         "mark": {
          "size": 20,
          "type": "bar"
         },
         "title": "Fiber Optic Churn Rate is Over Twice DSL"
        },
        {
         "data": {
          "name": "data-78aa4fa73d942b9863f4536c68b6f4f8"
         },
         "encoding": {
          "text": {
           "field": "percent",
           "type": "nominal"
          },
          "x": {
           "field": "x",
           "type": "quantitative"
          },
          "y": {
           "field": "InternetService",
           "type": "nominal"
          }
         },
         "mark": {
          "color": "white",
          "type": "text"
         },
         "transform": [
          {
           "as": "x",
           "calculate": "datum.total - datum.customerID/2"
          }
         ]
        }
       ]
      },
      "image/png": "[encoded data removed]",
      "text/plain": [
       "<VegaLite 3 object>\n",
       "\n",
       "If you see this message, it means the renderer has not been properly enabled\n",
       "for the frontend that you are using. For more information, see\n",
       "https://altair-viz.github.io/user_guide/troubleshooting.html\n"
      ]
     },
     "execution_count": 9,
     "metadata": {},
     "output_type": "execute_result"
    }
   ],
   "source": [
    "bars = alt.Chart(chart_data,\n",
    "         title='Fiber Optic Churn Rate is Over Twice DSL',\n",
    "         height=100\n",
    "         ).mark_bar(\n",
    "            size=20\n",
    "         ).encode(\n",
    "            alt.X('sum(customerID)', title='Number of Customers'),\n",
    "            alt.Y('InternetService', title='Internet Type'),\n",
    "            color='Churn',\n",
    "            order=alt.Order(\n",
    "                'Churn',\n",
    "                sort='ascending'\n",
    "            )\n",
    "         )\n",
    "\n",
    "text = alt.Chart(chart_data.query('Churn == \"Yes\"')).mark_text(color='white').encode(\n",
    "    x=\"x:Q\",\n",
    "    y=alt.Y('InternetService'),\n",
    "    text=alt.Text('percent')\n",
    ").transform_calculate(\n",
    "    x='datum.total - datum.customerID/2'\n",
    ")\n",
    "\n",
    "(bars + text)"
   ]
  },
  {
   "cell_type": "markdown",
   "metadata": {},
   "source": [
    "# Churn by Monthly Charges"
   ]
  },
  {
   "cell_type": "code",
   "execution_count": 10,
   "metadata": {},
   "outputs": [
    {
     "data": {
      "text/html": [
       "<div>\n",
       "<style scoped>\n",
       "    .dataframe tbody tr th:only-of-type {\n",
       "        vertical-align: middle;\n",
       "    }\n",
       "\n",
       "    .dataframe tbody tr th {\n",
       "        vertical-align: top;\n",
       "    }\n",
       "\n",
       "    .dataframe thead th {\n",
       "        text-align: right;\n",
       "    }\n",
       "</style>\n",
       "<table border=\"1\" class=\"dataframe\">\n",
       "  <thead>\n",
       "    <tr style=\"text-align: right;\">\n",
       "      <th></th>\n",
       "      <th>MonthlyChargeBin</th>\n",
       "      <th>Churn</th>\n",
       "      <th>customerID</th>\n",
       "      <th>total</th>\n",
       "      <th>percent</th>\n",
       "    </tr>\n",
       "  </thead>\n",
       "  <tbody>\n",
       "    <tr>\n",
       "      <th>0</th>\n",
       "      <td>(18.15, 38.35]</td>\n",
       "      <td>No</td>\n",
       "      <td>1592</td>\n",
       "      <td>1797</td>\n",
       "      <td>89%</td>\n",
       "    </tr>\n",
       "    <tr>\n",
       "      <th>1</th>\n",
       "      <td>(18.15, 38.35]</td>\n",
       "      <td>Yes</td>\n",
       "      <td>205</td>\n",
       "      <td>1797</td>\n",
       "      <td>11%</td>\n",
       "    </tr>\n",
       "    <tr>\n",
       "      <th>2</th>\n",
       "      <td>(38.35, 58.45]</td>\n",
       "      <td>No</td>\n",
       "      <td>734</td>\n",
       "      <td>1005</td>\n",
       "      <td>73%</td>\n",
       "    </tr>\n",
       "    <tr>\n",
       "      <th>3</th>\n",
       "      <td>(38.35, 58.45]</td>\n",
       "      <td>Yes</td>\n",
       "      <td>271</td>\n",
       "      <td>1005</td>\n",
       "      <td>27%</td>\n",
       "    </tr>\n",
       "    <tr>\n",
       "      <th>4</th>\n",
       "      <td>(58.45, 78.55]</td>\n",
       "      <td>No</td>\n",
       "      <td>964</td>\n",
       "      <td>1367</td>\n",
       "      <td>71%</td>\n",
       "    </tr>\n",
       "    <tr>\n",
       "      <th>5</th>\n",
       "      <td>(58.45, 78.55]</td>\n",
       "      <td>Yes</td>\n",
       "      <td>403</td>\n",
       "      <td>1367</td>\n",
       "      <td>29%</td>\n",
       "    </tr>\n",
       "    <tr>\n",
       "      <th>6</th>\n",
       "      <td>(78.55, 98.65]</td>\n",
       "      <td>No</td>\n",
       "      <td>1151</td>\n",
       "      <td>1826</td>\n",
       "      <td>63%</td>\n",
       "    </tr>\n",
       "    <tr>\n",
       "      <th>7</th>\n",
       "      <td>(78.55, 98.65]</td>\n",
       "      <td>Yes</td>\n",
       "      <td>675</td>\n",
       "      <td>1826</td>\n",
       "      <td>37%</td>\n",
       "    </tr>\n",
       "    <tr>\n",
       "      <th>8</th>\n",
       "      <td>(98.65, 118.75]</td>\n",
       "      <td>No</td>\n",
       "      <td>733</td>\n",
       "      <td>1048</td>\n",
       "      <td>70%</td>\n",
       "    </tr>\n",
       "    <tr>\n",
       "      <th>9</th>\n",
       "      <td>(98.65, 118.75]</td>\n",
       "      <td>Yes</td>\n",
       "      <td>315</td>\n",
       "      <td>1048</td>\n",
       "      <td>30%</td>\n",
       "    </tr>\n",
       "  </tbody>\n",
       "</table>\n",
       "</div>"
      ],
      "text/plain": [
       "  MonthlyChargeBin Churn  customerID  total percent\n",
       "0   (18.15, 38.35]    No        1592   1797     89%\n",
       "1   (18.15, 38.35]   Yes         205   1797     11%\n",
       "2   (38.35, 58.45]    No         734   1005     73%\n",
       "3   (38.35, 58.45]   Yes         271   1005     27%\n",
       "4   (58.45, 78.55]    No         964   1367     71%\n",
       "5   (58.45, 78.55]   Yes         403   1367     29%\n",
       "6   (78.55, 98.65]    No        1151   1826     63%\n",
       "7   (78.55, 98.65]   Yes         675   1826     37%\n",
       "8  (98.65, 118.75]    No         733   1048     70%\n",
       "9  (98.65, 118.75]   Yes         315   1048     30%"
      ]
     },
     "execution_count": 10,
     "metadata": {},
     "output_type": "execute_result"
    }
   ],
   "source": [
    "df['MonthlyChargeBin'] = pd.cut(df.MonthlyCharges, bins=5).astype(str)\n",
    "chart_data = df.groupby(['MonthlyChargeBin','Churn'])['customerID'].count().reset_index()\n",
    "chart_data = total_percent(chart_data, 'MonthlyChargeBin', 'customerID')\n",
    "chart_data"
   ]
  },
  {
   "cell_type": "code",
   "execution_count": 11,
   "metadata": {},
   "outputs": [
    {
     "data": {
      "application/vnd.vegalite.v3+json": {
       "$schema": "https://vega.github.io/schema/vega-lite/v3.3.0.json",
       "config": {
        "mark": {
         "tooltip": null
        },
        "view": {
         "height": 300,
         "width": 400
        }
       },
       "datasets": {
        "data-3166a8d4f71a3a875a5d24df9c94d30d": [
         {
          "Churn": "Yes",
          "MonthlyChargeBin": "(18.15, 38.35]",
          "customerID": 205,
          "percent": "11%",
          "total": 1797
         },
         {
          "Churn": "Yes",
          "MonthlyChargeBin": "(38.35, 58.45]",
          "customerID": 271,
          "percent": "27%",
          "total": 1005
         },
         {
          "Churn": "Yes",
          "MonthlyChargeBin": "(58.45, 78.55]",
          "customerID": 403,
          "percent": "29%",
          "total": 1367
         },
         {
          "Churn": "Yes",
          "MonthlyChargeBin": "(78.55, 98.65]",
          "customerID": 675,
          "percent": "37%",
          "total": 1826
         },
         {
          "Churn": "Yes",
          "MonthlyChargeBin": "(98.65, 118.75]",
          "customerID": 315,
          "percent": "30%",
          "total": 1048
         }
        ],
        "data-5549caf2c5f80677cb64d185bae9e0d9": [
         {
          "Churn": "No",
          "MonthlyChargeBin": "(18.15, 38.35]",
          "customerID": 1592,
          "percent": "89%",
          "total": 1797
         },
         {
          "Churn": "Yes",
          "MonthlyChargeBin": "(18.15, 38.35]",
          "customerID": 205,
          "percent": "11%",
          "total": 1797
         },
         {
          "Churn": "No",
          "MonthlyChargeBin": "(38.35, 58.45]",
          "customerID": 734,
          "percent": "73%",
          "total": 1005
         },
         {
          "Churn": "Yes",
          "MonthlyChargeBin": "(38.35, 58.45]",
          "customerID": 271,
          "percent": "27%",
          "total": 1005
         },
         {
          "Churn": "No",
          "MonthlyChargeBin": "(58.45, 78.55]",
          "customerID": 964,
          "percent": "71%",
          "total": 1367
         },
         {
          "Churn": "Yes",
          "MonthlyChargeBin": "(58.45, 78.55]",
          "customerID": 403,
          "percent": "29%",
          "total": 1367
         },
         {
          "Churn": "No",
          "MonthlyChargeBin": "(78.55, 98.65]",
          "customerID": 1151,
          "percent": "63%",
          "total": 1826
         },
         {
          "Churn": "Yes",
          "MonthlyChargeBin": "(78.55, 98.65]",
          "customerID": 675,
          "percent": "37%",
          "total": 1826
         },
         {
          "Churn": "No",
          "MonthlyChargeBin": "(98.65, 118.75]",
          "customerID": 733,
          "percent": "70%",
          "total": 1048
         },
         {
          "Churn": "Yes",
          "MonthlyChargeBin": "(98.65, 118.75]",
          "customerID": 315,
          "percent": "30%",
          "total": 1048
         }
        ]
       },
       "layer": [
        {
         "data": {
          "name": "data-5549caf2c5f80677cb64d185bae9e0d9"
         },
         "encoding": {
          "color": {
           "field": "Churn",
           "type": "nominal"
          },
          "order": {
           "field": "Churn",
           "sort": "ascending",
           "type": "nominal"
          },
          "x": {
           "aggregate": "sum",
           "field": "customerID",
           "title": "Number of Customers",
           "type": "quantitative"
          },
          "y": {
           "field": "MonthlyChargeBin",
           "title": "Monthly Bill Amount",
           "type": "nominal"
          }
         },
         "height": 150,
         "mark": {
          "size": 20,
          "type": "bar"
         },
         "title": "We Are Losing Higher-Paying Customers"
        },
        {
         "data": {
          "name": "data-3166a8d4f71a3a875a5d24df9c94d30d"
         },
         "encoding": {
          "text": {
           "field": "percent",
           "type": "nominal"
          },
          "x": {
           "field": "x",
           "type": "quantitative"
          },
          "y": {
           "field": "MonthlyChargeBin",
           "type": "nominal"
          }
         },
         "mark": {
          "color": "white",
          "type": "text"
         },
         "transform": [
          {
           "as": "x",
           "calculate": "datum.total - datum.customerID/2"
          }
         ]
        }
       ]
      },
      "image/png": "[encoded data removed]",
      "text/plain": [
       "<VegaLite 3 object>\n",
       "\n",
       "If you see this message, it means the renderer has not been properly enabled\n",
       "for the frontend that you are using. For more information, see\n",
       "https://altair-viz.github.io/user_guide/troubleshooting.html\n"
      ]
     },
     "execution_count": 11,
     "metadata": {},
     "output_type": "execute_result"
    }
   ],
   "source": [
    "bars = alt.Chart(chart_data,\n",
    "         title='We Are Losing Higher-Paying Customers',\n",
    "         height=150\n",
    "         ).mark_bar(\n",
    "            size=20\n",
    "         ).encode(\n",
    "            alt.X('sum(customerID)', title='Number of Customers'),\n",
    "            alt.Y('MonthlyChargeBin',title='Monthly Bill Amount'),\n",
    "            color='Churn',\n",
    "            order=alt.Order(\n",
    "                'Churn',\n",
    "                sort='ascending'\n",
    "            )\n",
    "         )\n",
    "\n",
    "text = alt.Chart(chart_data.query('Churn == \"Yes\"')).mark_text(color='white').encode(\n",
    "    x=\"x:Q\",\n",
    "    y=alt.Y('MonthlyChargeBin'),\n",
    "    text=alt.Text('percent')\n",
    ").transform_calculate(\n",
    "    x='datum.total - datum.customerID/2'\n",
    ")\n",
    "\n",
    "(bars + text)\n"
   ]
  },
  {
   "cell_type": "markdown",
   "metadata": {},
   "source": [
    "# New Customer Churn"
   ]
  },
  {
   "cell_type": "code",
   "execution_count": 12,
   "metadata": {},
   "outputs": [],
   "source": [
    "df['NewCustomer'] = df.tenure <= 11"
   ]
  },
  {
   "cell_type": "code",
   "execution_count": 13,
   "metadata": {},
   "outputs": [
    {
     "data": {
      "text/html": [
       "<div>\n",
       "<style scoped>\n",
       "    .dataframe tbody tr th:only-of-type {\n",
       "        vertical-align: middle;\n",
       "    }\n",
       "\n",
       "    .dataframe tbody tr th {\n",
       "        vertical-align: top;\n",
       "    }\n",
       "\n",
       "    .dataframe thead th {\n",
       "        text-align: right;\n",
       "    }\n",
       "</style>\n",
       "<table border=\"1\" class=\"dataframe\">\n",
       "  <thead>\n",
       "    <tr style=\"text-align: right;\">\n",
       "      <th></th>\n",
       "      <th>NewCustomer</th>\n",
       "      <th>Churn</th>\n",
       "      <th>customerID</th>\n",
       "      <th>total</th>\n",
       "      <th>percent</th>\n",
       "    </tr>\n",
       "  </thead>\n",
       "  <tbody>\n",
       "    <tr>\n",
       "      <th>0</th>\n",
       "      <td>One Year+</td>\n",
       "      <td>No</td>\n",
       "      <td>4104</td>\n",
       "      <td>4974</td>\n",
       "      <td>83%</td>\n",
       "    </tr>\n",
       "    <tr>\n",
       "      <th>1</th>\n",
       "      <td>One Year+</td>\n",
       "      <td>Yes</td>\n",
       "      <td>870</td>\n",
       "      <td>4974</td>\n",
       "      <td>17%</td>\n",
       "    </tr>\n",
       "    <tr>\n",
       "      <th>2</th>\n",
       "      <td>Less than One Year</td>\n",
       "      <td>No</td>\n",
       "      <td>1070</td>\n",
       "      <td>2069</td>\n",
       "      <td>52%</td>\n",
       "    </tr>\n",
       "    <tr>\n",
       "      <th>3</th>\n",
       "      <td>Less than One Year</td>\n",
       "      <td>Yes</td>\n",
       "      <td>999</td>\n",
       "      <td>2069</td>\n",
       "      <td>48%</td>\n",
       "    </tr>\n",
       "  </tbody>\n",
       "</table>\n",
       "</div>"
      ],
      "text/plain": [
       "          NewCustomer Churn  customerID  total percent\n",
       "0           One Year+    No        4104   4974     83%\n",
       "1           One Year+   Yes         870   4974     17%\n",
       "2  Less than One Year    No        1070   2069     52%\n",
       "3  Less than One Year   Yes         999   2069     48%"
      ]
     },
     "execution_count": 13,
     "metadata": {},
     "output_type": "execute_result"
    }
   ],
   "source": [
    "chart_data = df.groupby(['NewCustomer','Churn'])['customerID'].count().reset_index()\n",
    "chart_data.NewCustomer = chart_data.NewCustomer.map({True:'Less than One Year',False:'One Year+'})\n",
    "chart_data = total_percent(chart_data, 'NewCustomer', 'customerID')\n",
    "\n",
    "chart_data"
   ]
  },
  {
   "cell_type": "code",
   "execution_count": 14,
   "metadata": {},
   "outputs": [
    {
     "data": {
      "application/vnd.vegalite.v3+json": {
       "$schema": "https://vega.github.io/schema/vega-lite/v3.3.0.json",
       "config": {
        "mark": {
         "tooltip": null
        },
        "view": {
         "height": 300,
         "width": 400
        }
       },
       "datasets": {
        "data-e93ef68c46c8d3c4ae42af21bc94edd5": [
         {
          "Churn": "Yes",
          "NewCustomer": "One Year+",
          "customerID": 870,
          "percent": "17%",
          "total": 4974
         },
         {
          "Churn": "Yes",
          "NewCustomer": "Less than One Year",
          "customerID": 999,
          "percent": "48%",
          "total": 2069
         }
        ],
        "data-f008e40c51aabb013fbfe6af3c6c9e9a": [
         {
          "Churn": "No",
          "NewCustomer": "One Year+",
          "customerID": 4104,
          "percent": "83%",
          "total": 4974
         },
         {
          "Churn": "Yes",
          "NewCustomer": "One Year+",
          "customerID": 870,
          "percent": "17%",
          "total": 4974
         },
         {
          "Churn": "No",
          "NewCustomer": "Less than One Year",
          "customerID": 1070,
          "percent": "52%",
          "total": 2069
         },
         {
          "Churn": "Yes",
          "NewCustomer": "Less than One Year",
          "customerID": 999,
          "percent": "48%",
          "total": 2069
         }
        ]
       },
       "layer": [
        {
         "data": {
          "name": "data-f008e40c51aabb013fbfe6af3c6c9e9a"
         },
         "encoding": {
          "color": {
           "field": "Churn",
           "type": "nominal"
          },
          "order": {
           "field": "Churn",
           "sort": "ascending",
           "type": "nominal"
          },
          "x": {
           "aggregate": "sum",
           "field": "customerID",
           "title": "Number of Customers",
           "type": "quantitative"
          },
          "y": {
           "field": "NewCustomer",
           "title": "Customer Tenure",
           "type": "nominal"
          }
         },
         "height": 100,
         "mark": {
          "size": 20,
          "type": "bar"
         },
         "title": "Almost Half Churn in First Year"
        },
        {
         "data": {
          "name": "data-e93ef68c46c8d3c4ae42af21bc94edd5"
         },
         "encoding": {
          "text": {
           "field": "percent",
           "type": "nominal"
          },
          "x": {
           "field": "x",
           "type": "quantitative"
          },
          "y": {
           "field": "NewCustomer",
           "type": "nominal"
          }
         },
         "mark": {
          "color": "white",
          "type": "text"
         },
         "transform": [
          {
           "as": "x",
           "calculate": "datum.total - datum.customerID/2"
          }
         ]
        }
       ]
      },
      "image/png": "[encoded data removed]",
      "text/plain": [
       "<VegaLite 3 object>\n",
       "\n",
       "If you see this message, it means the renderer has not been properly enabled\n",
       "for the frontend that you are using. For more information, see\n",
       "https://altair-viz.github.io/user_guide/troubleshooting.html\n"
      ]
     },
     "execution_count": 14,
     "metadata": {},
     "output_type": "execute_result"
    }
   ],
   "source": [
    "bars = alt.Chart(chart_data,\n",
    "             title='Almost Half Churn in First Year',\n",
    "             height=100\n",
    "         ).mark_bar(\n",
    "            size=20\n",
    "         ).encode(\n",
    "            alt.X('sum(customerID)', title='Number of Customers'),\n",
    "            alt.Y('NewCustomer', title='Customer Tenure'),\n",
    "            color='Churn',\n",
    "            order=alt.Order(\n",
    "                'Churn',\n",
    "                sort='ascending'\n",
    "            )\n",
    "         )\n",
    "\n",
    "text = alt.Chart(chart_data.query('Churn == \"Yes\"')).mark_text(color='white').encode(\n",
    "    x=\"x:Q\",\n",
    "    y=alt.Y('NewCustomer'),\n",
    "    text=alt.Text('percent')\n",
    ").transform_calculate(\n",
    "    x='datum.total - datum.customerID/2'\n",
    ")\n",
    "\n",
    "(bars + text)"
   ]
  },
  {
   "cell_type": "code",
   "execution_count": 15,
   "metadata": {},
   "outputs": [
    {
     "data": {
      "text/html": [
       "<div>\n",
       "<style scoped>\n",
       "    .dataframe tbody tr th:only-of-type {\n",
       "        vertical-align: middle;\n",
       "    }\n",
       "\n",
       "    .dataframe tbody tr th {\n",
       "        vertical-align: top;\n",
       "    }\n",
       "\n",
       "    .dataframe thead th {\n",
       "        text-align: right;\n",
       "    }\n",
       "</style>\n",
       "<table border=\"1\" class=\"dataframe\">\n",
       "  <thead>\n",
       "    <tr style=\"text-align: right;\">\n",
       "      <th></th>\n",
       "      <th>tenure</th>\n",
       "      <th>Churn</th>\n",
       "      <th>customerID</th>\n",
       "      <th>total</th>\n",
       "      <th>percent</th>\n",
       "    </tr>\n",
       "  </thead>\n",
       "  <tbody>\n",
       "    <tr>\n",
       "      <th>0</th>\n",
       "      <td>1</td>\n",
       "      <td>No</td>\n",
       "      <td>233</td>\n",
       "      <td>613</td>\n",
       "      <td>38%</td>\n",
       "    </tr>\n",
       "    <tr>\n",
       "      <th>1</th>\n",
       "      <td>1</td>\n",
       "      <td>Yes</td>\n",
       "      <td>380</td>\n",
       "      <td>613</td>\n",
       "      <td>62%</td>\n",
       "    </tr>\n",
       "    <tr>\n",
       "      <th>2</th>\n",
       "      <td>2</td>\n",
       "      <td>No</td>\n",
       "      <td>115</td>\n",
       "      <td>238</td>\n",
       "      <td>48%</td>\n",
       "    </tr>\n",
       "    <tr>\n",
       "      <th>3</th>\n",
       "      <td>2</td>\n",
       "      <td>Yes</td>\n",
       "      <td>123</td>\n",
       "      <td>238</td>\n",
       "      <td>52%</td>\n",
       "    </tr>\n",
       "    <tr>\n",
       "      <th>4</th>\n",
       "      <td>3</td>\n",
       "      <td>No</td>\n",
       "      <td>106</td>\n",
       "      <td>200</td>\n",
       "      <td>53%</td>\n",
       "    </tr>\n",
       "    <tr>\n",
       "      <th>5</th>\n",
       "      <td>3</td>\n",
       "      <td>Yes</td>\n",
       "      <td>94</td>\n",
       "      <td>200</td>\n",
       "      <td>47%</td>\n",
       "    </tr>\n",
       "    <tr>\n",
       "      <th>6</th>\n",
       "      <td>4</td>\n",
       "      <td>No</td>\n",
       "      <td>93</td>\n",
       "      <td>176</td>\n",
       "      <td>53%</td>\n",
       "    </tr>\n",
       "    <tr>\n",
       "      <th>7</th>\n",
       "      <td>4</td>\n",
       "      <td>Yes</td>\n",
       "      <td>83</td>\n",
       "      <td>176</td>\n",
       "      <td>47%</td>\n",
       "    </tr>\n",
       "    <tr>\n",
       "      <th>8</th>\n",
       "      <td>5</td>\n",
       "      <td>No</td>\n",
       "      <td>69</td>\n",
       "      <td>133</td>\n",
       "      <td>52%</td>\n",
       "    </tr>\n",
       "    <tr>\n",
       "      <th>9</th>\n",
       "      <td>5</td>\n",
       "      <td>Yes</td>\n",
       "      <td>64</td>\n",
       "      <td>133</td>\n",
       "      <td>48%</td>\n",
       "    </tr>\n",
       "    <tr>\n",
       "      <th>10</th>\n",
       "      <td>6</td>\n",
       "      <td>No</td>\n",
       "      <td>70</td>\n",
       "      <td>110</td>\n",
       "      <td>64%</td>\n",
       "    </tr>\n",
       "    <tr>\n",
       "      <th>11</th>\n",
       "      <td>6</td>\n",
       "      <td>Yes</td>\n",
       "      <td>40</td>\n",
       "      <td>110</td>\n",
       "      <td>36%</td>\n",
       "    </tr>\n",
       "    <tr>\n",
       "      <th>12</th>\n",
       "      <td>7</td>\n",
       "      <td>No</td>\n",
       "      <td>80</td>\n",
       "      <td>131</td>\n",
       "      <td>61%</td>\n",
       "    </tr>\n",
       "    <tr>\n",
       "      <th>13</th>\n",
       "      <td>7</td>\n",
       "      <td>Yes</td>\n",
       "      <td>51</td>\n",
       "      <td>131</td>\n",
       "      <td>39%</td>\n",
       "    </tr>\n",
       "    <tr>\n",
       "      <th>14</th>\n",
       "      <td>8</td>\n",
       "      <td>No</td>\n",
       "      <td>81</td>\n",
       "      <td>123</td>\n",
       "      <td>66%</td>\n",
       "    </tr>\n",
       "    <tr>\n",
       "      <th>15</th>\n",
       "      <td>8</td>\n",
       "      <td>Yes</td>\n",
       "      <td>42</td>\n",
       "      <td>123</td>\n",
       "      <td>34%</td>\n",
       "    </tr>\n",
       "    <tr>\n",
       "      <th>16</th>\n",
       "      <td>9</td>\n",
       "      <td>No</td>\n",
       "      <td>73</td>\n",
       "      <td>119</td>\n",
       "      <td>61%</td>\n",
       "    </tr>\n",
       "    <tr>\n",
       "      <th>17</th>\n",
       "      <td>9</td>\n",
       "      <td>Yes</td>\n",
       "      <td>46</td>\n",
       "      <td>119</td>\n",
       "      <td>39%</td>\n",
       "    </tr>\n",
       "    <tr>\n",
       "      <th>18</th>\n",
       "      <td>10</td>\n",
       "      <td>No</td>\n",
       "      <td>71</td>\n",
       "      <td>116</td>\n",
       "      <td>61%</td>\n",
       "    </tr>\n",
       "    <tr>\n",
       "      <th>19</th>\n",
       "      <td>10</td>\n",
       "      <td>Yes</td>\n",
       "      <td>45</td>\n",
       "      <td>116</td>\n",
       "      <td>39%</td>\n",
       "    </tr>\n",
       "    <tr>\n",
       "      <th>20</th>\n",
       "      <td>11</td>\n",
       "      <td>No</td>\n",
       "      <td>68</td>\n",
       "      <td>99</td>\n",
       "      <td>69%</td>\n",
       "    </tr>\n",
       "    <tr>\n",
       "      <th>21</th>\n",
       "      <td>11</td>\n",
       "      <td>Yes</td>\n",
       "      <td>31</td>\n",
       "      <td>99</td>\n",
       "      <td>31%</td>\n",
       "    </tr>\n",
       "    <tr>\n",
       "      <th>22</th>\n",
       "      <td>12</td>\n",
       "      <td>No</td>\n",
       "      <td>79</td>\n",
       "      <td>117</td>\n",
       "      <td>68%</td>\n",
       "    </tr>\n",
       "    <tr>\n",
       "      <th>23</th>\n",
       "      <td>12</td>\n",
       "      <td>Yes</td>\n",
       "      <td>38</td>\n",
       "      <td>117</td>\n",
       "      <td>32%</td>\n",
       "    </tr>\n",
       "  </tbody>\n",
       "</table>\n",
       "</div>"
      ],
      "text/plain": [
       "    tenure Churn  customerID  total percent\n",
       "0        1    No         233    613     38%\n",
       "1        1   Yes         380    613     62%\n",
       "2        2    No         115    238     48%\n",
       "3        2   Yes         123    238     52%\n",
       "4        3    No         106    200     53%\n",
       "5        3   Yes          94    200     47%\n",
       "6        4    No          93    176     53%\n",
       "7        4   Yes          83    176     47%\n",
       "8        5    No          69    133     52%\n",
       "9        5   Yes          64    133     48%\n",
       "10       6    No          70    110     64%\n",
       "11       6   Yes          40    110     36%\n",
       "12       7    No          80    131     61%\n",
       "13       7   Yes          51    131     39%\n",
       "14       8    No          81    123     66%\n",
       "15       8   Yes          42    123     34%\n",
       "16       9    No          73    119     61%\n",
       "17       9   Yes          46    119     39%\n",
       "18      10    No          71    116     61%\n",
       "19      10   Yes          45    116     39%\n",
       "20      11    No          68     99     69%\n",
       "21      11   Yes          31     99     31%\n",
       "22      12    No          79    117     68%\n",
       "23      12   Yes          38    117     32%"
      ]
     },
     "execution_count": 15,
     "metadata": {},
     "output_type": "execute_result"
    }
   ],
   "source": [
    "chart_data = df.query('tenure <= 12 and tenure > 0').groupby(['tenure','Churn'])['customerID'].count().reset_index()\n",
    "chart_data = total_percent(chart_data, 'tenure', 'customerID')\n",
    "chart_data"
   ]
  },
  {
   "cell_type": "code",
   "execution_count": 16,
   "metadata": {},
   "outputs": [
    {
     "data": {
      "application/vnd.vegalite.v3+json": {
       "$schema": "https://vega.github.io/schema/vega-lite/v3.3.0.json",
       "config": {
        "mark": {
         "tooltip": null
        },
        "view": {
         "height": 300,
         "width": 400
        }
       },
       "datasets": {
        "data-2ce4ced9f5f68bd86f8de381a801d0a0": [
         {
          "Churn": "Yes",
          "customerID": 380,
          "percent": "62%",
          "tenure": 1,
          "total": 613
         },
         {
          "Churn": "Yes",
          "customerID": 123,
          "percent": "52%",
          "tenure": 2,
          "total": 238
         },
         {
          "Churn": "Yes",
          "customerID": 94,
          "percent": "47%",
          "tenure": 3,
          "total": 200
         },
         {
          "Churn": "Yes",
          "customerID": 83,
          "percent": "47%",
          "tenure": 4,
          "total": 176
         },
         {
          "Churn": "Yes",
          "customerID": 64,
          "percent": "48%",
          "tenure": 5,
          "total": 133
         }
        ],
        "data-65dff01732a6a43e5ea56c8d97bac7fa": [
         {
          "Churn": "No",
          "customerID": 233,
          "percent": "38%",
          "tenure": 1,
          "total": 613
         },
         {
          "Churn": "Yes",
          "customerID": 380,
          "percent": "62%",
          "tenure": 1,
          "total": 613
         },
         {
          "Churn": "No",
          "customerID": 115,
          "percent": "48%",
          "tenure": 2,
          "total": 238
         },
         {
          "Churn": "Yes",
          "customerID": 123,
          "percent": "52%",
          "tenure": 2,
          "total": 238
         },
         {
          "Churn": "No",
          "customerID": 106,
          "percent": "53%",
          "tenure": 3,
          "total": 200
         },
         {
          "Churn": "Yes",
          "customerID": 94,
          "percent": "47%",
          "tenure": 3,
          "total": 200
         },
         {
          "Churn": "No",
          "customerID": 93,
          "percent": "53%",
          "tenure": 4,
          "total": 176
         },
         {
          "Churn": "Yes",
          "customerID": 83,
          "percent": "47%",
          "tenure": 4,
          "total": 176
         },
         {
          "Churn": "No",
          "customerID": 69,
          "percent": "52%",
          "tenure": 5,
          "total": 133
         },
         {
          "Churn": "Yes",
          "customerID": 64,
          "percent": "48%",
          "tenure": 5,
          "total": 133
         },
         {
          "Churn": "No",
          "customerID": 70,
          "percent": "64%",
          "tenure": 6,
          "total": 110
         },
         {
          "Churn": "Yes",
          "customerID": 40,
          "percent": "36%",
          "tenure": 6,
          "total": 110
         },
         {
          "Churn": "No",
          "customerID": 80,
          "percent": "61%",
          "tenure": 7,
          "total": 131
         },
         {
          "Churn": "Yes",
          "customerID": 51,
          "percent": "39%",
          "tenure": 7,
          "total": 131
         },
         {
          "Churn": "No",
          "customerID": 81,
          "percent": "66%",
          "tenure": 8,
          "total": 123
         },
         {
          "Churn": "Yes",
          "customerID": 42,
          "percent": "34%",
          "tenure": 8,
          "total": 123
         },
         {
          "Churn": "No",
          "customerID": 73,
          "percent": "61%",
          "tenure": 9,
          "total": 119
         },
         {
          "Churn": "Yes",
          "customerID": 46,
          "percent": "39%",
          "tenure": 9,
          "total": 119
         },
         {
          "Churn": "No",
          "customerID": 71,
          "percent": "61%",
          "tenure": 10,
          "total": 116
         },
         {
          "Churn": "Yes",
          "customerID": 45,
          "percent": "39%",
          "tenure": 10,
          "total": 116
         },
         {
          "Churn": "No",
          "customerID": 68,
          "percent": "69%",
          "tenure": 11,
          "total": 99
         },
         {
          "Churn": "Yes",
          "customerID": 31,
          "percent": "31%",
          "tenure": 11,
          "total": 99
         },
         {
          "Churn": "No",
          "customerID": 79,
          "percent": "68%",
          "tenure": 12,
          "total": 117
         },
         {
          "Churn": "Yes",
          "customerID": 38,
          "percent": "32%",
          "tenure": 12,
          "total": 117
         }
        ],
        "data-6bfc84b544c072140fc5162e160ce561": [
         {
          "Churn": "Yes",
          "customerID": 40,
          "percent": "36%",
          "tenure": 6,
          "total": 110
         },
         {
          "Churn": "Yes",
          "customerID": 51,
          "percent": "39%",
          "tenure": 7,
          "total": 131
         },
         {
          "Churn": "Yes",
          "customerID": 42,
          "percent": "34%",
          "tenure": 8,
          "total": 123
         },
         {
          "Churn": "Yes",
          "customerID": 46,
          "percent": "39%",
          "tenure": 9,
          "total": 119
         },
         {
          "Churn": "Yes",
          "customerID": 45,
          "percent": "39%",
          "tenure": 10,
          "total": 116
         },
         {
          "Churn": "Yes",
          "customerID": 31,
          "percent": "31%",
          "tenure": 11,
          "total": 99
         },
         {
          "Churn": "Yes",
          "customerID": 38,
          "percent": "32%",
          "tenure": 12,
          "total": 117
         }
        ]
       },
       "layer": [
        {
         "data": {
          "name": "data-65dff01732a6a43e5ea56c8d97bac7fa"
         },
         "encoding": {
          "color": {
           "field": "Churn",
           "type": "nominal"
          },
          "order": {
           "field": "Churn",
           "sort": "ascending",
           "type": "nominal"
          },
          "x": {
           "aggregate": "sum",
           "field": "customerID",
           "title": "Number of Customers",
           "type": "quantitative"
          },
          "y": {
           "field": "tenure",
           "sort": "ascending",
           "title": "Months of Service",
           "type": "quantitative"
          }
         },
         "mark": {
          "dy": 5,
          "size": 20,
          "type": "bar"
         },
         "title": "Churn is Highest in Month One"
        },
        {
         "data": {
          "name": "data-2ce4ced9f5f68bd86f8de381a801d0a0"
         },
         "encoding": {
          "text": {
           "field": "percent",
           "type": "nominal"
          },
          "x": {
           "field": "x",
           "type": "quantitative"
          },
          "y": {
           "field": "tenure",
           "type": "quantitative"
          }
         },
         "mark": {
          "color": "white",
          "type": "text"
         },
         "transform": [
          {
           "as": "x",
           "calculate": "datum.total - datum.customerID/2"
          }
         ]
        },
        {
         "data": {
          "name": "data-6bfc84b544c072140fc5162e160ce561"
         },
         "encoding": {
          "text": {
           "field": "percent",
           "type": "nominal"
          },
          "x": {
           "field": "total",
           "type": "quantitative"
          },
          "y": {
           "field": "tenure",
           "type": "quantitative"
          }
         },
         "mark": {
          "dx": 15,
          "type": "text"
         }
        }
       ]
      },
      "image/png": "[encoded data removed]",
      "text/plain": [
       "<VegaLite 3 object>\n",
       "\n",
       "If you see this message, it means the renderer has not been properly enabled\n",
       "for the frontend that you are using. For more information, see\n",
       "https://altair-viz.github.io/user_guide/troubleshooting.html\n"
      ]
     },
     "execution_count": 16,
     "metadata": {},
     "output_type": "execute_result"
    }
   ],
   "source": [
    "bars = alt.Chart(chart_data,\n",
    "         title='Churn is Highest in Month One'\n",
    "         ).mark_bar(\n",
    "                size=20,\n",
    "                dy=5\n",
    "         ).encode(\n",
    "            alt.X('sum(customerID)', title='Number of Customers'),\n",
    "            alt.Y('tenure', title='Months of Service', sort='ascending'),\n",
    "            color='Churn',\n",
    "            order=alt.Order(\n",
    "                'Churn',\n",
    "                sort='ascending'\n",
    "            )\n",
    "         )\n",
    "\n",
    "yes = chart_data.query('Churn == \"Yes\"')\n",
    "text = alt.Chart(yes.query('tenure <= 5')).mark_text(\n",
    "    color='white').encode(\n",
    "    x=\"x:Q\",\n",
    "    y=alt.Y('tenure'),\n",
    "    text=alt.Text('percent')\n",
    ").transform_calculate(\n",
    "    x='datum.total - datum.customerID/2'\n",
    ")\n",
    "\n",
    "text_side = alt.Chart(yes.query('tenure >5')).mark_text(\n",
    "    dx=15\n",
    ").encode(\n",
    "    x=alt.X('total'),\n",
    "    y=alt.Y('tenure'),\n",
    "    text=alt.Text('percent')\n",
    ")\n",
    "\n",
    "bars + text + text_side"
   ]
  },
  {
   "cell_type": "markdown",
   "metadata": {},
   "source": [
    "# Payment Method"
   ]
  },
  {
   "cell_type": "code",
   "execution_count": 17,
   "metadata": {},
   "outputs": [
    {
     "data": {
      "text/html": [
       "<div>\n",
       "<style scoped>\n",
       "    .dataframe tbody tr th:only-of-type {\n",
       "        vertical-align: middle;\n",
       "    }\n",
       "\n",
       "    .dataframe tbody tr th {\n",
       "        vertical-align: top;\n",
       "    }\n",
       "\n",
       "    .dataframe thead th {\n",
       "        text-align: right;\n",
       "    }\n",
       "</style>\n",
       "<table border=\"1\" class=\"dataframe\">\n",
       "  <thead>\n",
       "    <tr style=\"text-align: right;\">\n",
       "      <th></th>\n",
       "      <th>PaymentMethod</th>\n",
       "      <th>Churn</th>\n",
       "      <th>customerID</th>\n",
       "      <th>total</th>\n",
       "      <th>percent</th>\n",
       "    </tr>\n",
       "  </thead>\n",
       "  <tbody>\n",
       "    <tr>\n",
       "      <th>0</th>\n",
       "      <td>Bank transfer (automatic)</td>\n",
       "      <td>No</td>\n",
       "      <td>1286</td>\n",
       "      <td>1544</td>\n",
       "      <td>83%</td>\n",
       "    </tr>\n",
       "    <tr>\n",
       "      <th>1</th>\n",
       "      <td>Bank transfer (automatic)</td>\n",
       "      <td>Yes</td>\n",
       "      <td>258</td>\n",
       "      <td>1544</td>\n",
       "      <td>17%</td>\n",
       "    </tr>\n",
       "    <tr>\n",
       "      <th>2</th>\n",
       "      <td>Credit card (automatic)</td>\n",
       "      <td>No</td>\n",
       "      <td>1290</td>\n",
       "      <td>1522</td>\n",
       "      <td>85%</td>\n",
       "    </tr>\n",
       "    <tr>\n",
       "      <th>3</th>\n",
       "      <td>Credit card (automatic)</td>\n",
       "      <td>Yes</td>\n",
       "      <td>232</td>\n",
       "      <td>1522</td>\n",
       "      <td>15%</td>\n",
       "    </tr>\n",
       "    <tr>\n",
       "      <th>4</th>\n",
       "      <td>Electronic check</td>\n",
       "      <td>No</td>\n",
       "      <td>1294</td>\n",
       "      <td>2365</td>\n",
       "      <td>55%</td>\n",
       "    </tr>\n",
       "    <tr>\n",
       "      <th>5</th>\n",
       "      <td>Electronic check</td>\n",
       "      <td>Yes</td>\n",
       "      <td>1071</td>\n",
       "      <td>2365</td>\n",
       "      <td>45%</td>\n",
       "    </tr>\n",
       "    <tr>\n",
       "      <th>6</th>\n",
       "      <td>Mailed check</td>\n",
       "      <td>No</td>\n",
       "      <td>1304</td>\n",
       "      <td>1612</td>\n",
       "      <td>81%</td>\n",
       "    </tr>\n",
       "    <tr>\n",
       "      <th>7</th>\n",
       "      <td>Mailed check</td>\n",
       "      <td>Yes</td>\n",
       "      <td>308</td>\n",
       "      <td>1612</td>\n",
       "      <td>19%</td>\n",
       "    </tr>\n",
       "  </tbody>\n",
       "</table>\n",
       "</div>"
      ],
      "text/plain": [
       "               PaymentMethod Churn  customerID  total percent\n",
       "0  Bank transfer (automatic)    No        1286   1544     83%\n",
       "1  Bank transfer (automatic)   Yes         258   1544     17%\n",
       "2    Credit card (automatic)    No        1290   1522     85%\n",
       "3    Credit card (automatic)   Yes         232   1522     15%\n",
       "4           Electronic check    No        1294   2365     55%\n",
       "5           Electronic check   Yes        1071   2365     45%\n",
       "6               Mailed check    No        1304   1612     81%\n",
       "7               Mailed check   Yes         308   1612     19%"
      ]
     },
     "execution_count": 17,
     "metadata": {},
     "output_type": "execute_result"
    }
   ],
   "source": [
    "chart_data = df.groupby(['PaymentMethod', 'Churn'])['customerID'].count().reset_index()\n",
    "chart_data  = total_percent(chart_data, 'PaymentMethod', 'customerID')\n",
    "chart_data "
   ]
  },
  {
   "cell_type": "code",
   "execution_count": 18,
   "metadata": {},
   "outputs": [
    {
     "data": {
      "application/vnd.vegalite.v3+json": {
       "$schema": "https://vega.github.io/schema/vega-lite/v3.3.0.json",
       "config": {
        "mark": {
         "tooltip": null
        },
        "view": {
         "height": 300,
         "width": 400
        }
       },
       "data": {
        "name": "data-f688f56a39786237f671abaa2f64928e"
       },
       "datasets": {
        "data-f688f56a39786237f671abaa2f64928e": [
         {
          "Churn": "No",
          "PaymentMethod": "Bank transfer (automatic)",
          "customerID": 1286,
          "percent": "83%",
          "total": 1544
         },
         {
          "Churn": "Yes",
          "PaymentMethod": "Bank transfer (automatic)",
          "customerID": 258,
          "percent": "17%",
          "total": 1544
         },
         {
          "Churn": "No",
          "PaymentMethod": "Credit card (automatic)",
          "customerID": 1290,
          "percent": "85%",
          "total": 1522
         },
         {
          "Churn": "Yes",
          "PaymentMethod": "Credit card (automatic)",
          "customerID": 232,
          "percent": "15%",
          "total": 1522
         },
         {
          "Churn": "No",
          "PaymentMethod": "Electronic check",
          "customerID": 1294,
          "percent": "55%",
          "total": 2365
         },
         {
          "Churn": "Yes",
          "PaymentMethod": "Electronic check",
          "customerID": 1071,
          "percent": "45%",
          "total": 2365
         },
         {
          "Churn": "No",
          "PaymentMethod": "Mailed check",
          "customerID": 1304,
          "percent": "81%",
          "total": 1612
         },
         {
          "Churn": "Yes",
          "PaymentMethod": "Mailed check",
          "customerID": 308,
          "percent": "19%",
          "total": 1612
         }
        ]
       },
       "layer": [
        {
         "encoding": {
          "color": {
           "field": "Churn",
           "type": "nominal"
          },
          "order": {
           "field": "Churn",
           "sort": "ascending",
           "type": "nominal"
          },
          "x": {
           "aggregate": "sum",
           "field": "customerID",
           "title": "Number of Customers",
           "type": "quantitative"
          },
          "y": {
           "field": "PaymentMethod",
           "title": "Payment Method",
           "type": "nominal"
          }
         },
         "height": 150,
         "mark": {
          "size": 20,
          "type": "bar"
         },
         "title": "Are Customers Paying By Electronic Check Dissatisfied?"
        },
        {
         "encoding": {
          "text": {
           "field": "percent",
           "type": "nominal"
          },
          "x": {
           "field": "x",
           "type": "quantitative"
          },
          "y": {
           "field": "PaymentMethod",
           "type": "nominal"
          }
         },
         "mark": {
          "color": "white",
          "type": "text"
         },
         "transform": [
          {
           "as": "x",
           "calculate": "datum.total - datum.customerID/2"
          },
          {
           "filter": "datum.Churn == 'Yes'"
          }
         ]
        }
       ]
      },
      "image/png": "[encoded data removed]",
      "text/plain": [
       "<VegaLite 3 object>\n",
       "\n",
       "If you see this message, it means the renderer has not been properly enabled\n",
       "for the frontend that you are using. For more information, see\n",
       "https://altair-viz.github.io/user_guide/troubleshooting.html\n"
      ]
     },
     "execution_count": 18,
     "metadata": {},
     "output_type": "execute_result"
    }
   ],
   "source": [
    "bars = alt.Chart(chart_data,\n",
    "             title='Are Customers Paying By Electronic Check Dissatisfied?',\n",
    "             height=150\n",
    "         ).mark_bar(\n",
    "            size=20\n",
    "         ).encode(\n",
    "            alt.X('sum(customerID)', title='Number of Customers'),\n",
    "            alt.Y('PaymentMethod:N', title='Payment Method'),\n",
    "            color='Churn',\n",
    "            order=alt.Order(\n",
    "                'Churn',\n",
    "                sort='ascending'\n",
    "            )\n",
    "         )\n",
    "\n",
    "text = alt.Chart(chart_data\n",
    "                ).mark_text(\n",
    "                    color='white'\n",
    "                ).encode(\n",
    "                    x=\"x:Q\",\n",
    "                    y=alt.Y('PaymentMethod:N'),\n",
    "                    text=alt.Text('percent')\n",
    "                ).transform_calculate(\n",
    "                    x='datum.total - datum.customerID/2'\n",
    "                ).transform_filter(\n",
    "                    \"datum.Churn == 'Yes'\" \n",
    "                )\n",
    "\n",
    "bars + text"
   ]
  },
  {
   "cell_type": "code",
   "execution_count": null,
   "metadata": {},
   "outputs": [],
   "source": []
  }
 ],
 "metadata": {
  "kernelspec": {
   "display_name": "Python 3",
   "language": "python",
   "name": "python3"
  },
  "language_info": {
   "codemirror_mode": {
    "name": "ipython",
    "version": 3
   },
   "file_extension": ".py",
   "mimetype": "text/x-python",
   "name": "python",
   "nbconvert_exporter": "python",
   "pygments_lexer": "ipython3",
   "version": "3.6.8"
  }
 },
 "nbformat": 4,
 "nbformat_minor": 4
}
