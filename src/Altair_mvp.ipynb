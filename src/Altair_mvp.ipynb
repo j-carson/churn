{
 "cells": [
  {
   "cell_type": "markdown",
   "metadata": {},
   "source": [
    "# MVP in Altair\n",
    "\n",
    "So, in the explore.ipynb I identified some initial observations for a 'minimum viable project,' but the \n",
    "graphs are made with the pandas built-ins. These are great for an analyst to get a quick look at data, but\n",
    "for business slides you're going to want something more consistent, nice axis labels, and so on. \n",
    "\n",
    "I decided to try Altair for this. "
   ]
  },
  {
   "cell_type": "code",
   "execution_count": 1,
   "metadata": {},
   "outputs": [],
   "source": [
    "import pandas as pd\n",
    "import numpy as np\n",
    "import altair as alt\n",
    "\n",
    "from pathlib import Path"
   ]
  },
  {
   "cell_type": "code",
   "execution_count": 2,
   "metadata": {},
   "outputs": [
    {
     "name": "stdout",
     "output_type": "stream",
     "text": [
      "pandas 0.24.2\n",
      "numpy  1.16.4\n",
      "altair 3.1.0\n",
      "\n"
     ]
    }
   ],
   "source": [
    "%load_ext watermark\n",
    "%watermark -iv"
   ]
  },
  {
   "cell_type": "code",
   "execution_count": 3,
   "metadata": {},
   "outputs": [
    {
     "data": {
      "text/plain": [
       "(7043, 21)"
      ]
     },
     "execution_count": 3,
     "metadata": {},
     "output_type": "execute_result"
    }
   ],
   "source": [
    "# Data load\n",
    "data = Path('../data/churn_cleaned.pkl')\n",
    "assert(data.exists())\n",
    "df = pd.read_pickle(data)\n",
    "df.shape"
   ]
  },
  {
   "cell_type": "code",
   "execution_count": 4,
   "metadata": {},
   "outputs": [
    {
     "data": {
      "text/plain": [
       "Index(['customerID', 'gender', 'SeniorCitizen', 'Partner', 'Dependents',\n",
       "       'tenure', 'PhoneService', 'MultipleLines', 'InternetService',\n",
       "       'OnlineSecurity', 'OnlineBackup', 'DeviceProtection', 'TechSupport',\n",
       "       'StreamingTV', 'StreamingMovies', 'Contract', 'PaperlessBilling',\n",
       "       'PaymentMethod', 'MonthlyCharges', 'TotalCharges', 'Churn'],\n",
       "      dtype='object')"
      ]
     },
     "execution_count": 4,
     "metadata": {},
     "output_type": "execute_result"
    }
   ],
   "source": [
    "df.columns"
   ]
  },
  {
   "cell_type": "markdown",
   "metadata": {},
   "source": [
    "# Overview - who churned?"
   ]
  },
  {
   "cell_type": "code",
   "execution_count": 5,
   "metadata": {},
   "outputs": [],
   "source": [
    "df['cust_type'] = ''\n",
    "df.loc[(df.PhoneService == 'Yes') & (df.InternetService == 'No'), 'cust_type'] = 'Phone'\n",
    "df.loc[(df.PhoneService == 'No') & (df.InternetService != 'No'), 'cust_type'] = 'Internet'\n",
    "df.loc[df.cust_type == '', 'cust_type'] = 'Both'\n",
    "chart_data = df.groupby(['cust_type','Churn'])['customerID'].count().reset_index()"
   ]
  },
  {
   "cell_type": "code",
   "execution_count": 6,
   "metadata": {},
   "outputs": [
    {
     "data": {
      "application/vnd.vegalite.v3+json": {
       "$schema": "https://vega.github.io/schema/vega-lite/v3.3.0.json",
       "config": {
        "mark": {
         "tooltip": null
        },
        "view": {
         "height": 300,
         "width": 400
        }
       },
       "data": {
        "name": "data-cc68652ce327e682bdc5fda1b896bbf5"
       },
       "datasets": {
        "data-cc68652ce327e682bdc5fda1b896bbf5": [
         {
          "Churn": "No",
          "cust_type": "Both",
          "customerID": 3249
         },
         {
          "Churn": "Yes",
          "cust_type": "Both",
          "customerID": 1586
         },
         {
          "Churn": "No",
          "cust_type": "Internet",
          "customerID": 512
         },
         {
          "Churn": "Yes",
          "cust_type": "Internet",
          "customerID": 170
         },
         {
          "Churn": "No",
          "cust_type": "Phone",
          "customerID": 1413
         },
         {
          "Churn": "Yes",
          "cust_type": "Phone",
          "customerID": 113
         }
        ]
       },
       "encoding": {
        "color": {
         "field": "Churn",
         "type": "nominal"
        },
        "order": {
         "field": "Churn",
         "sort": "ascending",
         "type": "nominal"
        },
        "x": {
         "aggregate": "sum",
         "field": "customerID",
         "title": "Number of Customers",
         "type": "quantitative"
        },
        "y": {
         "field": "cust_type",
         "title": "Product",
         "type": "nominal"
        }
       },
       "mark": "bar",
       "title": "Phone-only Customers Have the Least Churn"
      },
      "image/png": "[encoded data removed]",
      "text/plain": [
       "<VegaLite 3 object>\n",
       "\n",
       "If you see this message, it means the renderer has not been properly enabled\n",
       "for the frontend that you are using. For more information, see\n",
       "https://altair-viz.github.io/user_guide/troubleshooting.html\n"
      ]
     },
     "execution_count": 6,
     "metadata": {},
     "output_type": "execute_result"
    }
   ],
   "source": [
    "alt.Chart(chart_data,\n",
    "                title='Phone-only Customers Have the Least Churn'\n",
    "         ).mark_bar(\n",
    "         ).encode(\n",
    "                alt.X('sum(customerID)', title='Number of Customers'),\n",
    "                alt.Y('cust_type', title='Product'),\n",
    "                color='Churn',\n",
    "                order=alt.Order(\n",
    "                    'Churn',\n",
    "                    sort='ascending'\n",
    "                )\n",
    "         )"
   ]
  },
  {
   "cell_type": "markdown",
   "metadata": {},
   "source": [
    "# Internet Churn by Product"
   ]
  },
  {
   "cell_type": "code",
   "execution_count": 7,
   "metadata": {},
   "outputs": [],
   "source": [
    "chart_data = df.groupby([\"InternetService\",\"Churn\"])['customerID'].count().reset_index()\n",
    "chart_data = chart_data.query('InternetService != \"No\"')"
   ]
  },
  {
   "cell_type": "code",
   "execution_count": 8,
   "metadata": {},
   "outputs": [
    {
     "data": {
      "application/vnd.vegalite.v3+json": {
       "$schema": "https://vega.github.io/schema/vega-lite/v3.3.0.json",
       "config": {
        "mark": {
         "tooltip": null
        },
        "view": {
         "height": 300,
         "width": 400
        }
       },
       "data": {
        "name": "data-a12326c3a5368ef3d84683cabbd598a2"
       },
       "datasets": {
        "data-a12326c3a5368ef3d84683cabbd598a2": [
         {
          "Churn": "No",
          "InternetService": "DSL",
          "customerID": 1962
         },
         {
          "Churn": "Yes",
          "InternetService": "DSL",
          "customerID": 459
         },
         {
          "Churn": "No",
          "InternetService": "Fiber optic",
          "customerID": 1799
         },
         {
          "Churn": "Yes",
          "InternetService": "Fiber optic",
          "customerID": 1297
         }
        ]
       },
       "encoding": {
        "color": {
         "field": "Churn",
         "type": "nominal"
        },
        "order": {
         "field": "Churn",
         "sort": "ascending",
         "type": "nominal"
        },
        "x": {
         "aggregate": "sum",
         "field": "customerID",
         "title": "Number of Customers",
         "type": "quantitative"
        },
        "y": {
         "field": "InternetService",
         "title": "Internet Type",
         "type": "nominal"
        }
       },
       "mark": "bar",
       "title": "Fiber Optic Customers Churn More Than DSL"
      },
      "image/png": "[encoded data removed]",
      "text/plain": [
       "<VegaLite 3 object>\n",
       "\n",
       "If you see this message, it means the renderer has not been properly enabled\n",
       "for the frontend that you are using. For more information, see\n",
       "https://altair-viz.github.io/user_guide/troubleshooting.html\n"
      ]
     },
     "execution_count": 8,
     "metadata": {},
     "output_type": "execute_result"
    }
   ],
   "source": [
    "alt.Chart(chart_data,\n",
    "         title='Fiber Optic Customers Churn More Than DSL'\n",
    "         ).mark_bar(\n",
    "         ).encode(\n",
    "            alt.X('sum(customerID)', title='Number of Customers'),\n",
    "            alt.Y('InternetService', title='Internet Type'),\n",
    "            color='Churn',\n",
    "            order=alt.Order(\n",
    "                'Churn',\n",
    "                sort='ascending'\n",
    "            )\n",
    "         )"
   ]
  },
  {
   "cell_type": "markdown",
   "metadata": {},
   "source": [
    "# Churn by Monthly Charges\n",
    "\n",
    "This may be an indication that our product is not perceived as a good value, but it may also be\n",
    "because our churning customers use the more expensive fiber optic service."
   ]
  },
  {
   "cell_type": "code",
   "execution_count": 9,
   "metadata": {},
   "outputs": [],
   "source": [
    "df['MonthlyChargeBin'] = pd.cut(df.MonthlyCharges, bins=5).astype(str)\n",
    "chart_data = df.groupby(['MonthlyChargeBin','Churn'])['customerID'].count().reset_index()"
   ]
  },
  {
   "cell_type": "code",
   "execution_count": 10,
   "metadata": {},
   "outputs": [
    {
     "data": {
      "application/vnd.vegalite.v3+json": {
       "$schema": "https://vega.github.io/schema/vega-lite/v3.3.0.json",
       "config": {
        "mark": {
         "tooltip": null
        },
        "view": {
         "height": 300,
         "width": 400
        }
       },
       "data": {
        "name": "data-4905c76719e07d205403c61091e1c8fb"
       },
       "datasets": {
        "data-4905c76719e07d205403c61091e1c8fb": [
         {
          "Churn": "No",
          "MonthlyChargeBin": "(18.15, 38.35]",
          "customerID": 1592
         },
         {
          "Churn": "Yes",
          "MonthlyChargeBin": "(18.15, 38.35]",
          "customerID": 205
         },
         {
          "Churn": "No",
          "MonthlyChargeBin": "(38.35, 58.45]",
          "customerID": 734
         },
         {
          "Churn": "Yes",
          "MonthlyChargeBin": "(38.35, 58.45]",
          "customerID": 271
         },
         {
          "Churn": "No",
          "MonthlyChargeBin": "(58.45, 78.55]",
          "customerID": 964
         },
         {
          "Churn": "Yes",
          "MonthlyChargeBin": "(58.45, 78.55]",
          "customerID": 403
         },
         {
          "Churn": "No",
          "MonthlyChargeBin": "(78.55, 98.65]",
          "customerID": 1151
         },
         {
          "Churn": "Yes",
          "MonthlyChargeBin": "(78.55, 98.65]",
          "customerID": 675
         },
         {
          "Churn": "No",
          "MonthlyChargeBin": "(98.65, 118.75]",
          "customerID": 733
         },
         {
          "Churn": "Yes",
          "MonthlyChargeBin": "(98.65, 118.75]",
          "customerID": 315
         }
        ]
       },
       "encoding": {
        "color": {
         "field": "Churn",
         "type": "nominal"
        },
        "order": {
         "field": "Churn",
         "sort": "ascending",
         "type": "nominal"
        },
        "x": {
         "aggregate": "sum",
         "field": "customerID",
         "title": "Number of Customers",
         "type": "quantitative"
        },
        "y": {
         "field": "MonthlyChargeBin",
         "title": "Monthly Bill Amount",
         "type": "nominal"
        }
       },
       "mark": "bar",
       "title": "We Are Losing Higher-Paying Customers"
      },
      "image/png": "[encoded data removed]",
      "text/plain": [
       "<VegaLite 3 object>\n",
       "\n",
       "If you see this message, it means the renderer has not been properly enabled\n",
       "for the frontend that you are using. For more information, see\n",
       "https://altair-viz.github.io/user_guide/troubleshooting.html\n"
      ]
     },
     "execution_count": 10,
     "metadata": {},
     "output_type": "execute_result"
    }
   ],
   "source": [
    "alt.Chart(chart_data,\n",
    "         title='We Are Losing Higher-Paying Customers',\n",
    "         ).mark_bar(\n",
    "         ).encode(\n",
    "            alt.X('sum(customerID)', title='Number of Customers'),\n",
    "            alt.Y('MonthlyChargeBin',title='Monthly Bill Amount'),\n",
    "            color='Churn',\n",
    "            order=alt.Order(\n",
    "                'Churn',\n",
    "                sort='ascending'\n",
    "            )\n",
    "         )"
   ]
  },
  {
   "cell_type": "markdown",
   "metadata": {},
   "source": [
    "# New Customer Churn"
   ]
  },
  {
   "cell_type": "code",
   "execution_count": 11,
   "metadata": {},
   "outputs": [],
   "source": [
    "df['NewCustomer'] = df.tenure <= 11"
   ]
  },
  {
   "cell_type": "code",
   "execution_count": 12,
   "metadata": {},
   "outputs": [],
   "source": [
    "chart_data = df.groupby(['NewCustomer','Churn'])['customerID'].count().reset_index()\n",
    "chart_data.NewCustomer = chart_data.NewCustomer.map({True:'Less than One Year',False:'One Year+'})"
   ]
  },
  {
   "cell_type": "code",
   "execution_count": 13,
   "metadata": {},
   "outputs": [
    {
     "data": {
      "application/vnd.vegalite.v3+json": {
       "$schema": "https://vega.github.io/schema/vega-lite/v3.3.0.json",
       "config": {
        "mark": {
         "tooltip": null
        },
        "view": {
         "height": 300,
         "width": 400
        }
       },
       "data": {
        "name": "data-9c68e421ef07b942db445cf32033a1ec"
       },
       "datasets": {
        "data-9c68e421ef07b942db445cf32033a1ec": [
         {
          "Churn": "No",
          "NewCustomer": "One Year+",
          "customerID": 4104
         },
         {
          "Churn": "Yes",
          "NewCustomer": "One Year+",
          "customerID": 870
         },
         {
          "Churn": "No",
          "NewCustomer": "Less than One Year",
          "customerID": 1070
         },
         {
          "Churn": "Yes",
          "NewCustomer": "Less than One Year",
          "customerID": 999
         }
        ]
       },
       "encoding": {
        "color": {
         "field": "Churn",
         "type": "nominal"
        },
        "order": {
         "field": "Churn",
         "sort": "ascending",
         "type": "nominal"
        },
        "x": {
         "aggregate": "sum",
         "field": "customerID",
         "title": "Number of Customers",
         "type": "quantitative"
        },
        "y": {
         "field": "NewCustomer",
         "title": null,
         "type": "nominal"
        }
       },
       "mark": "bar",
       "title": "New Customers Are Churning Rapidly"
      },
      "image/png": "[encoded data removed]",
      "text/plain": [
       "<VegaLite 3 object>\n",
       "\n",
       "If you see this message, it means the renderer has not been properly enabled\n",
       "for the frontend that you are using. For more information, see\n",
       "https://altair-viz.github.io/user_guide/troubleshooting.html\n"
      ]
     },
     "execution_count": 13,
     "metadata": {},
     "output_type": "execute_result"
    }
   ],
   "source": [
    "alt.Chart(chart_data,\n",
    "         title='New Customers Are Churning Rapidly'\n",
    "         ).mark_bar(\n",
    "         ).encode(\n",
    "            alt.X('sum(customerID)', title='Number of Customers'),\n",
    "            alt.Y('NewCustomer', title=None),\n",
    "            color='Churn',\n",
    "            order=alt.Order(\n",
    "                'Churn',\n",
    "                sort='ascending'\n",
    "            )\n",
    "         )"
   ]
  },
  {
   "cell_type": "code",
   "execution_count": 14,
   "metadata": {},
   "outputs": [],
   "source": [
    "chart_data = df.query('tenure <= 12 and tenure > 0').groupby(['tenure','Churn'])['customerID'].count().reset_index()"
   ]
  },
  {
   "cell_type": "code",
   "execution_count": 15,
   "metadata": {},
   "outputs": [
    {
     "data": {
      "application/vnd.vegalite.v3+json": {
       "$schema": "https://vega.github.io/schema/vega-lite/v3.3.0.json",
       "config": {
        "mark": {
         "tooltip": null
        },
        "view": {
         "height": 300,
         "width": 400
        }
       },
       "data": {
        "name": "data-dfeeffb770db64e272015a224cc639e6"
       },
       "datasets": {
        "data-dfeeffb770db64e272015a224cc639e6": [
         {
          "Churn": "No",
          "customerID": 233,
          "tenure": 1
         },
         {
          "Churn": "Yes",
          "customerID": 380,
          "tenure": 1
         },
         {
          "Churn": "No",
          "customerID": 115,
          "tenure": 2
         },
         {
          "Churn": "Yes",
          "customerID": 123,
          "tenure": 2
         },
         {
          "Churn": "No",
          "customerID": 106,
          "tenure": 3
         },
         {
          "Churn": "Yes",
          "customerID": 94,
          "tenure": 3
         },
         {
          "Churn": "No",
          "customerID": 93,
          "tenure": 4
         },
         {
          "Churn": "Yes",
          "customerID": 83,
          "tenure": 4
         },
         {
          "Churn": "No",
          "customerID": 69,
          "tenure": 5
         },
         {
          "Churn": "Yes",
          "customerID": 64,
          "tenure": 5
         },
         {
          "Churn": "No",
          "customerID": 70,
          "tenure": 6
         },
         {
          "Churn": "Yes",
          "customerID": 40,
          "tenure": 6
         },
         {
          "Churn": "No",
          "customerID": 80,
          "tenure": 7
         },
         {
          "Churn": "Yes",
          "customerID": 51,
          "tenure": 7
         },
         {
          "Churn": "No",
          "customerID": 81,
          "tenure": 8
         },
         {
          "Churn": "Yes",
          "customerID": 42,
          "tenure": 8
         },
         {
          "Churn": "No",
          "customerID": 73,
          "tenure": 9
         },
         {
          "Churn": "Yes",
          "customerID": 46,
          "tenure": 9
         },
         {
          "Churn": "No",
          "customerID": 71,
          "tenure": 10
         },
         {
          "Churn": "Yes",
          "customerID": 45,
          "tenure": 10
         },
         {
          "Churn": "No",
          "customerID": 68,
          "tenure": 11
         },
         {
          "Churn": "Yes",
          "customerID": 31,
          "tenure": 11
         },
         {
          "Churn": "No",
          "customerID": 79,
          "tenure": 12
         },
         {
          "Churn": "Yes",
          "customerID": 38,
          "tenure": 12
         }
        ]
       },
       "encoding": {
        "color": {
         "field": "Churn",
         "type": "nominal"
        },
        "order": {
         "field": "Churn",
         "sort": "ascending",
         "type": "nominal"
        },
        "x": {
         "aggregate": "sum",
         "field": "customerID",
         "title": "Number of Customers",
         "type": "quantitative"
        },
        "y": {
         "field": "tenure",
         "sort": "ascending",
         "title": "Months of Service",
         "type": "quantitative"
        }
       },
       "mark": {
        "dy": 5,
        "size": 20,
        "type": "bar"
       },
       "title": "Churn is Highest in Month One"
      },
      "image/png": "[encoded data removed]",
      "text/plain": [
       "<VegaLite 3 object>\n",
       "\n",
       "If you see this message, it means the renderer has not been properly enabled\n",
       "for the frontend that you are using. For more information, see\n",
       "https://altair-viz.github.io/user_guide/troubleshooting.html\n"
      ]
     },
     "execution_count": 15,
     "metadata": {},
     "output_type": "execute_result"
    }
   ],
   "source": [
    "alt.Chart(chart_data,\n",
    "         title='Churn is Highest in Month One'\n",
    "         ).mark_bar(\n",
    "                size=20,\n",
    "                dy=5\n",
    "         ).encode(\n",
    "            alt.X('sum(customerID)', title='Number of Customers'),\n",
    "            alt.Y('tenure', title='Months of Service', sort='ascending'),\n",
    "            color='Churn',\n",
    "            order=alt.Order(\n",
    "                'Churn',\n",
    "                sort='ascending'\n",
    "            )\n",
    "         )"
   ]
  },
  {
   "cell_type": "markdown",
   "metadata": {},
   "source": [
    "# Payment Method"
   ]
  },
  {
   "cell_type": "code",
   "execution_count": 16,
   "metadata": {},
   "outputs": [
    {
     "data": {
      "text/html": [
       "<div>\n",
       "<style scoped>\n",
       "    .dataframe tbody tr th:only-of-type {\n",
       "        vertical-align: middle;\n",
       "    }\n",
       "\n",
       "    .dataframe tbody tr th {\n",
       "        vertical-align: top;\n",
       "    }\n",
       "\n",
       "    .dataframe thead th {\n",
       "        text-align: right;\n",
       "    }\n",
       "</style>\n",
       "<table border=\"1\" class=\"dataframe\">\n",
       "  <thead>\n",
       "    <tr style=\"text-align: right;\">\n",
       "      <th></th>\n",
       "      <th>PaymentMethod</th>\n",
       "      <th>Churn</th>\n",
       "      <th>customerID</th>\n",
       "    </tr>\n",
       "  </thead>\n",
       "  <tbody>\n",
       "    <tr>\n",
       "      <th>0</th>\n",
       "      <td>Bank transfer (automatic)</td>\n",
       "      <td>No</td>\n",
       "      <td>1286</td>\n",
       "    </tr>\n",
       "    <tr>\n",
       "      <th>1</th>\n",
       "      <td>Bank transfer (automatic)</td>\n",
       "      <td>Yes</td>\n",
       "      <td>258</td>\n",
       "    </tr>\n",
       "    <tr>\n",
       "      <th>2</th>\n",
       "      <td>Credit card (automatic)</td>\n",
       "      <td>No</td>\n",
       "      <td>1290</td>\n",
       "    </tr>\n",
       "    <tr>\n",
       "      <th>3</th>\n",
       "      <td>Credit card (automatic)</td>\n",
       "      <td>Yes</td>\n",
       "      <td>232</td>\n",
       "    </tr>\n",
       "    <tr>\n",
       "      <th>4</th>\n",
       "      <td>Electronic check</td>\n",
       "      <td>No</td>\n",
       "      <td>1294</td>\n",
       "    </tr>\n",
       "    <tr>\n",
       "      <th>5</th>\n",
       "      <td>Electronic check</td>\n",
       "      <td>Yes</td>\n",
       "      <td>1071</td>\n",
       "    </tr>\n",
       "    <tr>\n",
       "      <th>6</th>\n",
       "      <td>Mailed check</td>\n",
       "      <td>No</td>\n",
       "      <td>1304</td>\n",
       "    </tr>\n",
       "    <tr>\n",
       "      <th>7</th>\n",
       "      <td>Mailed check</td>\n",
       "      <td>Yes</td>\n",
       "      <td>308</td>\n",
       "    </tr>\n",
       "  </tbody>\n",
       "</table>\n",
       "</div>"
      ],
      "text/plain": [
       "               PaymentMethod Churn  customerID\n",
       "0  Bank transfer (automatic)    No        1286\n",
       "1  Bank transfer (automatic)   Yes         258\n",
       "2    Credit card (automatic)    No        1290\n",
       "3    Credit card (automatic)   Yes         232\n",
       "4           Electronic check    No        1294\n",
       "5           Electronic check   Yes        1071\n",
       "6               Mailed check    No        1304\n",
       "7               Mailed check   Yes         308"
      ]
     },
     "execution_count": 16,
     "metadata": {},
     "output_type": "execute_result"
    }
   ],
   "source": [
    "chart_data = df.groupby(['PaymentMethod', 'Churn'])['customerID'].count().reset_index()\n",
    "chart_data"
   ]
  },
  {
   "cell_type": "code",
   "execution_count": 17,
   "metadata": {},
   "outputs": [
    {
     "data": {
      "application/vnd.vegalite.v3+json": {
       "$schema": "https://vega.github.io/schema/vega-lite/v3.3.0.json",
       "config": {
        "mark": {
         "tooltip": null
        },
        "view": {
         "height": 300,
         "width": 400
        }
       },
       "data": {
        "name": "data-794391aa845d2e3029aac055bcacc5c5"
       },
       "datasets": {
        "data-794391aa845d2e3029aac055bcacc5c5": [
         {
          "Churn": "No",
          "PaymentMethod": "Bank transfer (automatic)",
          "customerID": 1286
         },
         {
          "Churn": "Yes",
          "PaymentMethod": "Bank transfer (automatic)",
          "customerID": 258
         },
         {
          "Churn": "No",
          "PaymentMethod": "Credit card (automatic)",
          "customerID": 1290
         },
         {
          "Churn": "Yes",
          "PaymentMethod": "Credit card (automatic)",
          "customerID": 232
         },
         {
          "Churn": "No",
          "PaymentMethod": "Electronic check",
          "customerID": 1294
         },
         {
          "Churn": "Yes",
          "PaymentMethod": "Electronic check",
          "customerID": 1071
         },
         {
          "Churn": "No",
          "PaymentMethod": "Mailed check",
          "customerID": 1304
         },
         {
          "Churn": "Yes",
          "PaymentMethod": "Mailed check",
          "customerID": 308
         }
        ]
       },
       "encoding": {
        "color": {
         "field": "Churn",
         "type": "nominal"
        },
        "order": {
         "field": "Churn",
         "sort": "ascending",
         "type": "nominal"
        },
        "x": {
         "aggregate": "sum",
         "field": "customerID",
         "title": "Number of Customers",
         "type": "quantitative"
        },
        "y": {
         "field": "PaymentMethod",
         "title": "Payment Method",
         "type": "nominal"
        }
       },
       "mark": "bar",
       "title": "Are Customers Paying By Electronic Check Dissatisfied?"
      },
      "image/png": "[encoded data removed]",
      "text/plain": [
       "<VegaLite 3 object>\n",
       "\n",
       "If you see this message, it means the renderer has not been properly enabled\n",
       "for the frontend that you are using. For more information, see\n",
       "https://altair-viz.github.io/user_guide/troubleshooting.html\n"
      ]
     },
     "execution_count": 17,
     "metadata": {},
     "output_type": "execute_result"
    }
   ],
   "source": [
    "alt.Chart(chart_data,\n",
    "         title='Are Customers Paying By Electronic Check Dissatisfied?'\n",
    "         ).mark_bar(\n",
    "         ).encode(\n",
    "            alt.X('sum(customerID)', title='Number of Customers'),\n",
    "            alt.Y('PaymentMethod:N', title='Payment Method'),\n",
    "            color='Churn',\n",
    "            order=alt.Order(\n",
    "                'Churn',\n",
    "                sort='ascending'\n",
    "            )\n",
    "         )"
   ]
  },
  {
   "cell_type": "code",
   "execution_count": null,
   "metadata": {},
   "outputs": [],
   "source": []
  }
 ],
 "metadata": {
  "kernelspec": {
   "display_name": "Python 3",
   "language": "python",
   "name": "python3"
  },
  "language_info": {
   "codemirror_mode": {
    "name": "ipython",
    "version": 3
   },
   "file_extension": ".py",
   "mimetype": "text/x-python",
   "name": "python",
   "nbconvert_exporter": "python",
   "pygments_lexer": "ipython3",
   "version": "3.6.8"
  }
 },
 "nbformat": 4,
 "nbformat_minor": 4
}
